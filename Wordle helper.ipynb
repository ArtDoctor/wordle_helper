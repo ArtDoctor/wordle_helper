{
 "cells": [
  {
   "cell_type": "markdown",
   "id": "99816e5c",
   "metadata": {},
   "source": [
    "## Wordle helper\n",
    "If you are too lazy to remember all words with all conditions you found during wordle, or English is not your first language, this notebook may help.  \n",
    "Fill out known letters, present letters and banned letters, and get all words that follow all these conditions.  \n",
    "It is not optimized at all, but knowing the fact that it runs 0.1 seconds, there is enough speed."
   ]
  },
  {
   "cell_type": "code",
   "execution_count": null,
   "id": "2f2c5a70",
   "metadata": {},
   "outputs": [],
   "source": [
    "# Get all english words from nltk\n",
    "from nltk.corpus import words\n",
    "word_list = words.words()\n",
    "print(len(word_list))"
   ]
  },
  {
   "cell_type": "code",
   "execution_count": null,
   "id": "b00aac3e",
   "metadata": {},
   "outputs": [],
   "source": [
    "five_letters = []\n",
    "for w in word_list:\n",
    "    if len(w) == 5:\n",
    "        five_letters.append(w)"
   ]
  },
  {
   "cell_type": "code",
   "execution_count": null,
   "id": "eee4d617",
   "metadata": {},
   "outputs": [],
   "source": [
    "# Examples:\n",
    "# known_letters = 'a_i__'\n",
    "# there_are_these_letters = 'e'\n",
    "# there_shouldnt_be_these_letters = 'npm'\n",
    "known_letters = '_____'\n",
    "there_are_these_letters = \n",
    "there_shouldnt_be_these_letters = "
   ]
  },
  {
   "cell_type": "code",
   "execution_count": null,
   "id": "497e59bd",
   "metadata": {},
   "outputs": [],
   "source": [
    "for word in five_letters:\n",
    "    # Check for needed letters\n",
    "    skip = False\n",
    "    for letter in there_are_these_letters:\n",
    "        if letter not in word:\n",
    "            skip = True\n",
    "\n",
    "    if not skip:\n",
    "        # Check for not needed letters\n",
    "        skip = False\n",
    "        for letter in there_shouldnt_be_these_letters:\n",
    "            if letter in word:\n",
    "                skip = True\n",
    "        if not skip:\n",
    "            # Check for known letters\n",
    "            skip = False\n",
    "            for i, letter in enumerate(known_letters):\n",
    "                if letter != '_' and word[i] != letter:\n",
    "                    skip = True\n",
    "            if not skip:\n",
    "                print(word)"
   ]
  },
  {
   "cell_type": "code",
   "execution_count": null,
   "id": "f28ec669",
   "metadata": {},
   "outputs": [],
   "source": []
  }
 ],
 "metadata": {
  "kernelspec": {
   "display_name": "Python 3 (ipykernel)",
   "language": "python",
   "name": "python3"
  },
  "language_info": {
   "codemirror_mode": {
    "name": "ipython",
    "version": 3
   },
   "file_extension": ".py",
   "mimetype": "text/x-python",
   "name": "python",
   "nbconvert_exporter": "python",
   "pygments_lexer": "ipython3",
   "version": "3.10.9"
  }
 },
 "nbformat": 4,
 "nbformat_minor": 5
}
